{
 "cells": [
  {
   "cell_type": "markdown",
   "id": "787c3cb5",
   "metadata": {},
   "source": [
    "### Here is an example Python code for data clenning using Pandas library:"
   ]
  },
  {
   "cell_type": "code",
   "execution_count": null,
   "id": "d735dd1b",
   "metadata": {},
   "outputs": [],
   "source": [
    "import pandas as pd\n",
    "\n",
    "# Load the dataset\n",
    "df = pd.read_csv('dataset.csv')\n",
    "\n",
    "# Check for missing values\n",
    "print('Missing Values:', df.isnull().sum())\n",
    "\n",
    "# Drop rows with missing values\n",
    "df.dropna(inplace=True)\n",
    "\n",
    "# Remove duplicates\n",
    "df.drop_duplicates(inplace=True)\n",
    "\n",
    "# Convert data types\n",
    "df['column_name'] = df['column_name'].astype('int')\n",
    "\n",
    "# Remove unwanted characters\n",
    "df['column_name'] = df['column_name'].str.replace('$', '')\n",
    "\n",
    "# Rename columns\n",
    "df.rename(columns={'old_name': 'new_name'}, inplace=True)\n",
    "\n",
    "# Drop columns\n",
    "df.drop(['column_name'], axis=1, inplace=True)\n",
    "\n",
    "# Standardize values\n",
    "df['column_name'] = df['column_name'].apply(lambda x: x.lower())\n",
    "\n",
    "# Replace values\n",
    "df['column_name'].replace({'old_value': 'new_value'}, inplace=True)\n",
    "\n",
    "# Outlier detection and removal\n",
    "Q1 = df['column_name'].quantile(0.25)\n",
    "Q3 = df['column_name'].quantile(0.75)\n",
    "IQR = Q3 - Q1\n",
    "df = df[~((df['column_name'] < (Q1 - 1.5 * IQR)) | (df['column_name'] > (Q3 + 1.5 * IQR)))]\n",
    "\n",
    "# Scaling numerical data\n",
    "from sklearn.preprocessing import MinMaxScaler\n",
    "scaler = MinMaxScaler()\n",
    "df['column_name'] = scaler.fit_transform(df[['column_name']])\n",
    "\n",
    "# Save the cleaned data\n",
    "df.to_csv('cleaned_data.csv', index=False)\n"
   ]
  },
  {
   "cell_type": "code",
   "execution_count": null,
   "id": "35a081d5",
   "metadata": {},
   "outputs": [],
   "source": []
  },
  {
   "cell_type": "markdown",
   "id": "0db37cd4",
   "metadata": {},
   "source": [
    "### Here is an example Python code for data processing using Pandas library:"
   ]
  },
  {
   "cell_type": "code",
   "execution_count": null,
   "id": "f95ff4c7",
   "metadata": {},
   "outputs": [],
   "source": [
    "import pandas as pd\n",
    "\n",
    "# Load the dataset\n",
    "df = pd.read_csv('dataset.csv')\n",
    "\n",
    "# Select specific columns\n",
    "df = df[['column_1', 'column_2', 'column_3']]\n",
    "\n",
    "# Filter rows based on conditions\n",
    "df = df[df['column_1'] > 0]\n",
    "df = df[df['column_2'].isin(['A', 'B', 'C'])]\n",
    "\n",
    "# Group by a column and aggregate\n",
    "df = df.groupby('column_1').agg({'column_2': 'count', 'column_3': 'mean'}).reset_index()\n",
    "\n",
    "# Merge with another dataset\n",
    "df2 = pd.read_csv('another_dataset.csv')\n",
    "df = pd.merge(df, df2, on='column_1', how='inner')\n",
    "\n",
    "# Create new columns\n",
    "df['new_column'] = df['column_2'] + df['column_3']\n",
    "df['new_column_2'] = df.apply(lambda row: row['column_1'] * 2, axis=1)\n",
    "\n",
    "# Pivot table\n",
    "df_pivot = pd.pivot_table(df, values='new_column', index='column_1', columns='column_2', aggfunc='sum')\n",
    "\n",
    "# Apply a function to a column\n",
    "def function_name(x):\n",
    "    # function logic\n",
    "    return x\n",
    "\n",
    "df['column_1'] = df['column_1'].apply(function_name)\n",
    "\n",
    "# Save the processed data\n",
    "df.to_csv('processed_data.csv', index=False)\n"
   ]
  }
 ],
 "metadata": {
  "kernelspec": {
   "display_name": "Python 3 (ipykernel)",
   "language": "python",
   "name": "python3"
  },
  "language_info": {
   "codemirror_mode": {
    "name": "ipython",
    "version": 3
   },
   "file_extension": ".py",
   "mimetype": "text/x-python",
   "name": "python",
   "nbconvert_exporter": "python",
   "pygments_lexer": "ipython3",
   "version": "3.9.12"
  }
 },
 "nbformat": 4,
 "nbformat_minor": 5
}
